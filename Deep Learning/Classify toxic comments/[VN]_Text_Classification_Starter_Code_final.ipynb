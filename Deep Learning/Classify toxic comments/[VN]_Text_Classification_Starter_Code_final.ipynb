{
 "cells": [
  {
   "cell_type": "markdown",
   "metadata": {
    "id": "3AkEoCKaHdpj"
   },
   "source": [
    "\n",
    "Trong notebook này, chúng ta sẽ thử quy trình lập trình RNN với Keras để phân loại các câu văn bản.\n",
    "\n",
    "I.   **Trước tiên**, chúng ta sẽ nhập các thư viện hữu ích.\n",
    "\n",
    "II.   **Sau đó**, chúng ta sẽ load dữ liệu và tạo ma trận word embedding bằng Glove.\n",
    "\n",
    "III.  **Chúng ta sẽ thử một mô hình RNN đơn giản** rồi đánh giá chất lượng của nó.\n",
    "\n",
    "IV. Cuối cùng, chúng ta sẽ sử dụng các kỹ thuật để gia tăng độ chính xác của mô hình."
   ]
  },
  {
   "cell_type": "markdown",
   "metadata": {
    "id": "_xY_w9I1cZni"
   },
   "source": [
    "**Task 1:** Thiết lập Fre GPU trong notebook này."
   ]
  },
  {
   "cell_type": "code",
   "execution_count": 1,
   "metadata": {
    "colab": {
     "base_uri": "https://localhost:8080/"
    },
    "id": "c9y_XluJ0lie",
    "outputId": "10b9c6ff-96c7-4ca8-996b-9cbd379bab13"
   },
   "outputs": [
    {
     "name": "stdout",
     "output_type": "stream",
     "text": [
      "GPU 0: Tesla T4 (UUID: GPU-73f63a4b-a29d-e2cb-34b5-b53ef29d4dcf)\n"
     ]
    }
   ],
   "source": [
    "!nvidia-smi -L"
   ]
  },
  {
   "cell_type": "markdown",
   "metadata": {
    "id": "H4iAL0E0ciDS"
   },
   "source": [
    "## Gắn Google Drive cục bộ\n",
    "**Task 2:** Gắn Google vào Google Colab Driver.\n"
   ]
  },
  {
   "cell_type": "code",
   "execution_count": 2,
   "metadata": {
    "colab": {
     "base_uri": "https://localhost:8080/"
    },
    "id": "I8iz8Rp8H5pG",
    "outputId": "0824edcd-3678-4a26-ee3b-a94b353f72fd"
   },
   "outputs": [
    {
     "name": "stdout",
     "output_type": "stream",
     "text": [
      "Mounted at /content/drive\n"
     ]
    }
   ],
   "source": [
    "## VIẾT CODE cho task 2 ở đây:\n",
    "from google.colab import drive\n",
    "drive.mount('/content/drive')"
   ]
  },
  {
   "cell_type": "markdown",
   "metadata": {
    "id": "LeAakuO9cD5s"
   },
   "source": [
    "# I. Nhập tất cả các thư viện hữu ích."
   ]
  },
  {
   "cell_type": "code",
   "execution_count": 3,
   "metadata": {
    "colab": {
     "base_uri": "https://localhost:8080/"
    },
    "id": "0TF1MGcx_7ne",
    "outputId": "063e437e-9b4d-4558-c1e8-88afaa6b1077"
   },
   "outputs": [
    {
     "name": "stdout",
     "output_type": "stream",
     "text": [
      "Collecting tensorflow_addons\n",
      "  Downloading tensorflow_addons-0.21.0-cp310-cp310-manylinux_2_17_x86_64.manylinux2014_x86_64.whl (612 kB)\n",
      "\u001b[2K     \u001b[90m━━━━━━━━━━━━━━━━━━━━━━━━━━━━━━━━━━━━━━━\u001b[0m \u001b[32m612.1/612.1 kB\u001b[0m \u001b[31m6.0 MB/s\u001b[0m eta \u001b[36m0:00:00\u001b[0m\n",
      "\u001b[?25hRequirement already satisfied: packaging in /usr/local/lib/python3.10/dist-packages (from tensorflow_addons) (23.1)\n",
      "Collecting typeguard<3.0.0,>=2.7 (from tensorflow_addons)\n",
      "  Downloading typeguard-2.13.3-py3-none-any.whl (17 kB)\n",
      "Installing collected packages: typeguard, tensorflow_addons\n",
      "Successfully installed tensorflow_addons-0.21.0 typeguard-2.13.3\n"
     ]
    }
   ],
   "source": [
    "pip install tensorflow_addons"
   ]
  },
  {
   "cell_type": "code",
   "execution_count": 4,
   "metadata": {
    "colab": {
     "base_uri": "https://localhost:8080/"
    },
    "id": "TWgEP6KSHmV_",
    "outputId": "0d8b7589-a5cb-4f17-c077-0c582cea0fd6"
   },
   "outputs": [
    {
     "name": "stderr",
     "output_type": "stream",
     "text": [
      "/usr/local/lib/python3.10/dist-packages/tensorflow_addons/utils/tfa_eol_msg.py:23: UserWarning: \n",
      "\n",
      "TensorFlow Addons (TFA) has ended development and introduction of new features.\n",
      "TFA has entered a minimal maintenance and release mode until a planned end of life in May 2024.\n",
      "Please modify downstream libraries to take dependencies from other repositories in our TensorFlow community (e.g. Keras, Keras-CV, and Keras-NLP). \n",
      "\n",
      "For more information see: https://github.com/tensorflow/addons/issues/2807 \n",
      "\n",
      "  warnings.warn(\n"
     ]
    }
   ],
   "source": [
    "import sys, os, re, csv, codecs, numpy as np, pandas as pd\n",
    "import tensorflow.keras\n",
    "import datetime\n",
    "from tensorflow.keras import backend as K\n",
    "import tensorflow.keras.optimizers as Optimizer\n",
    "from tensorflow.keras.utils import to_categorical\n",
    "from tensorflow.keras.callbacks import ModelCheckpoint, TensorBoard\n",
    "from tensorflow.keras.preprocessing.text import Tokenizer\n",
    "from tensorflow.keras.preprocessing.sequence import pad_sequences\n",
    "from tensorflow.keras.layers import Dense, Input, LSTM, Embedding, Dropout, Activation\n",
    "from tensorflow.keras.layers import Bidirectional, GlobalMaxPool1D\n",
    "from tensorflow.keras.models import Model, load_model\n",
    "import tensorflow_addons as tfa\n",
    "\n",
    "from tensorflow.keras import initializers, regularizers, constraints, optimizers, layers\n",
    "from sklearn.metrics import confusion_matrix as CM\n",
    "from sklearn.metrics import confusion_matrix, f1_score, precision_score, recall_score\n",
    "import matplotlib.pyplot as plot\n",
    "import seaborn as sn"
   ]
  },
  {
   "cell_type": "markdown",
   "metadata": {
    "id": "ZvFTfBIscRwC"
   },
   "source": [
    "**Task 3**: Copy tập dữ liệu từ Google Drive vào Colab"
   ]
  },
  {
   "cell_type": "code",
   "execution_count": 5,
   "metadata": {
    "id": "MzzQsanZIZfg"
   },
   "outputs": [],
   "source": [
    "## VIẾT CODE cho task 3 ở đây:\n",
    "data_dir = '/content/drive/MyDrive/FUNIX/MON4/ASM2/'"
   ]
  },
  {
   "cell_type": "markdown",
   "metadata": {
    "id": "D_GxFMl7dFJ-"
   },
   "source": [
    "# II. Load dữ liệu.\n",
    "\n",
    "## Về tập dữ liệu.\n",
    "Câu hỏi không hợp lệ là những câu hỏi nhằm đưa ra một tuyên bố thay vì tìm kiếm những câu trả lời hữu ích. Một số đặc điểm cho thấy câu hỏi không hợp lệ gồm:\n",
    "\n",
    "* Có giọng điệu không trung lập.\n",
    "* Có tính chê bai hoặc kích động.\n",
    "* Không có căn cứ thực tế.\n",
    "* Sử dụng nội dung khiêu dâm (loạn luân, thú tính, ấu dâm) để gây sốc, không phải để tìm kiếm câu trả lời xác thực.\n",
    "\n",
    "Dữ liệu bao gồm câu hỏi đã đề ra và liệu nó có được xác định là không hợp lệ hay không (target = 1)."
   ]
  },
  {
   "cell_type": "markdown",
   "metadata": {
    "id": "A9HhWwT-gpuN"
   },
   "source": [
    "**Task 4**: Load tập dữ liệu.\n",
    "* Load dữ liệu từ file CSV.\n",
    "* Xóa tất cả các hàng có giá trị NA.\n",
    "* Chia dữ liệu thành 3 tập: Tập huấn luyện, tập kiểm định và tập kiểm tra (0.9/0.05/0.05, random_seed = 9) với cùng một tỷ lệ số dữ liệu giữa mỗi lớp.\n",
    "* In ra mô tả của tập dữ liệu này.\n",
    "\n",
    "\n"
   ]
  },
  {
   "cell_type": "code",
   "execution_count": 6,
   "metadata": {
    "colab": {
     "base_uri": "https://localhost:8080/"
    },
    "id": "j9HMbZrqK1Rq",
    "outputId": "6896bbe5-224d-4dd1-e8aa-49f569ce93b6"
   },
   "outputs": [
    {
     "name": "stdout",
     "output_type": "stream",
     "text": [
      "count    1.175509e+06\n",
      "mean     6.190340e-02\n",
      "std      2.409801e-01\n",
      "min      0.000000e+00\n",
      "25%      0.000000e+00\n",
      "50%      0.000000e+00\n",
      "75%      0.000000e+00\n",
      "max      1.000000e+00\n",
      "Name: label, dtype: float64\n",
      "count    65306.000000\n",
      "mean         0.062261\n",
      "std          0.241630\n",
      "min          0.000000\n",
      "25%          0.000000\n",
      "50%          0.000000\n",
      "75%          0.000000\n",
      "max          1.000000\n",
      "Name: label, dtype: float64\n",
      "count    65307.000000\n",
      "mean         0.060882\n",
      "std          0.239115\n",
      "min          0.000000\n",
      "25%          0.000000\n",
      "50%          0.000000\n",
      "75%          0.000000\n",
      "max          1.000000\n",
      "Name: label, dtype: float64\n"
     ]
    }
   ],
   "source": [
    "def load_data(data_link):\n",
    "    '''\n",
    "    input: data link.\n",
    "    output:\n",
    "        train_set, validation_set và test_set(0.9/0.05/0.05) mà không có các giá trị NA.\n",
    "    '''\n",
    "    ## VIẾT CODE cho task 4 ở đây:\n",
    "    file_name = data_dir + data_link\n",
    "    data = pd.read_csv(file_name)\n",
    "    data.rename(columns={'target':'label'}, inplace=True)\n",
    "    data = data.dropna()\n",
    "    train, validation, test = np.split(data.sample(frac=1),[int(0.9*len(data)), int(0.95*len(data))])\n",
    "    return train, validation, test\n",
    "\n",
    "np.random.seed(9)\n",
    "train_set, validation_set, test_set = load_data('train.csv')\n",
    "\n",
    "print(train_set['label'].describe())\n",
    "print(validation_set['label'].describe())\n",
    "print(test_set['label'].describe())"
   ]
  },
  {
   "cell_type": "markdown",
   "metadata": {
    "id": "sIcOnRkbqofC"
   },
   "source": [
    "# Mã hóa dữ liệu văn bản.\n",
    "Hãy khai báo một số tham số cơ bản trước:"
   ]
  },
  {
   "cell_type": "code",
   "execution_count": 7,
   "metadata": {
    "id": "0F3_zcCjHwzm"
   },
   "outputs": [],
   "source": [
    "embed_size = 50 # mỗi vectơ từ lớn bao nhiêu\n",
    "max_features = 20000 # cần sử dụng bao nhiêu từ duy nhất (tức là số hàng trong vectơ embedding)\n",
    "max_len = 50 # sử dụng số từ tối đa trong câu hỏi"
   ]
  },
  {
   "cell_type": "markdown",
   "metadata": {
    "id": "vT8m71iixjxt"
   },
   "source": [
    "**Task 5:** Mã hóa tập dữ liệu bằng Tokenizer và vectơ biểu diễn one-hot.\n",
    "* Mã hóa văn bản (cột question_text) bằng cách chuyển từng question text thành danh sách chỉ mục từ bằng [Tokenizer](https://stackoverflow.com/questions/51956000/what-does-keras-tokenizer-method-exactly-do) với **max_features** và tất cả các câu văn bản từ tập huấn luyện và tập kiểm định.\n",
    "* Chuyển từng danh sách chỉ mục từ thành độ dài như nhau - **max_len** (có cắt tỉa hoặc đệm nếu cần) bằng cách sử dụng [pad_sequences](https://keras.io/preprocessing/sequence/).\n",
    "* Mã hóa nhãn (cột nhãn) bằng cách sử dụng hàm [to_categorical](https://keras.io/utils/) trong Keras."
   ]
  },
  {
   "cell_type": "code",
   "execution_count": 8,
   "metadata": {
    "id": "Q1MZKNs4xmfP"
   },
   "outputs": [],
   "source": [
    "def encoding_textdata(train_set, validation_set, test_set, max_features, max_len):\n",
    "    '''\n",
    "    Input:\n",
    "    - Train/validation/test dataset.\n",
    "    - max_features, max_len.\n",
    "    Output:\n",
    "    - X train/validation/test, y train/validation/test.\n",
    "    - Tokenizer.\n",
    "    '''\n",
    "    ## VIẾT CODE cho task 5 ở đây:\n",
    "    # Gộp tất cả các câu văn bản từ tập huấn luyện và tập kiểm định\n",
    "    tr_va_sentences = np.concatenate((np.array(train_set[\"question_text\"]), np.array(validation_set[\"question_text\"])))\n",
    "\n",
    "    # Mã hóa 'question text' thành danh sách chỉ mục từ\n",
    "    tokenizer = Tokenizer(num_words=max_features, filters='!\"#$%&()*+,-./:;<=>?@[\\\\]^_`{|}~\\t\\n''')\n",
    "    tokenizer.fit_on_texts(tr_va_sentences)\n",
    "\n",
    "    train_sentences = train_set['question_text'].values\n",
    "    validation_sentences = validation_set['question_text'].values\n",
    "    test_sentences = test_set['question_text'].values\n",
    "\n",
    "    # Chuyển từng danh sách chỉ mục từ thành độ dài như nhau\n",
    "    X_tr = pad_sequences(tokenizer.texts_to_sequences(train_sentences),\n",
    "                         maxlen=max_len,\n",
    "                         padding='pre',\n",
    "                         truncating='pre',\n",
    "                         value=0.0)\n",
    "    X_va = pad_sequences(tokenizer.texts_to_sequences(validation_sentences),\n",
    "                         maxlen=max_len,\n",
    "                         padding='pre',\n",
    "                         truncating='pre',\n",
    "                         value=0.0)\n",
    "    X_te = pad_sequences(tokenizer.texts_to_sequences(test_sentences),\n",
    "                         maxlen=max_len,\n",
    "                         padding='pre',\n",
    "                         truncating='pre',\n",
    "                         value=0.0)\n",
    "\n",
    "    # Mã hóa nhãn\n",
    "    y_tr = to_categorical(train_set['label'], num_classes=2)\n",
    "    y_va = to_categorical(validation_set['label'], num_classes=2)\n",
    "    y_te = to_categorical(test_set['label'], num_classes=2)\n",
    "    return (X_tr, y_tr), (X_va, y_va), (X_te, y_te), tokenizer\n",
    "\n",
    "(X_tr, y_tr), (X_va, y_va), (X_te, y_te), tokenizer = encoding_textdata(train_set, validation_set, test_set, max_features, max_len)"
   ]
  },
  {
   "cell_type": "markdown",
   "metadata": {
    "id": "9kpG-p30WUcc"
   },
   "source": [
    "**Task 6**: Tạo ma trận word embedding.\n",
    "* Đầu tiên, hãy viết một hàm để load [GloVe dictionary.](https://medium.com/analytics-vidhya/basics-of-using-pre-trained-glove-vectors-in-python-d38905f356db)\n",
    "* Sau đó, tạo ma trận word embedding bằng GloVe dictionary với các tham số sau:\n",
    "    - Shape của ma trận word embedding: (Number of word, embed_size).\n",
    "    - Embed size: 50.\n",
    "    - Number of words: Tối thiểu của (max_features, len(word_index)), trong khi word_index là dictionary của từ chứa trong tokenizer.\n",
    "    - Nếu một từ xuất hiện trong GloVe dictionary, chúng ta nên lấy giá trị khởi tạo của nó như trong GloVe dictionary. Nếu không, hãy lấy một giá trị ngẫu nhiên bình thường với mean và std làm mean và std của giá trị GloVe dictionary.\n",
    "    \n",
    "\n"
   ]
  },
  {
   "cell_type": "code",
   "execution_count": 9,
   "metadata": {
    "id": "47s8-SncWT3V"
   },
   "outputs": [],
   "source": [
    "\n",
    "def get_coefs(word,*arr):\n",
    "    return word, np.asarray(arr, dtype='float32')\n",
    "def get_GloVe_dict(GloVe_link):\n",
    "    '''\n",
    "    input: GloVe link.\n",
    "    output: GloVe dictionary.\n",
    "    '''\n",
    "    ## VIẾT CODE cho task 6 ở đây:\n",
    "    link = '/content/drive/MyDrive/FUNIX/MON4/ASM2/' + GloVe_link\n",
    "    embeddings_dict = {}\n",
    "    with open(link, 'r', encoding='utf-8') as f:\n",
    "      for line in f:\n",
    "        values = line.split()\n",
    "        word, vector = get_coefs(values[0], values[1:])\n",
    "        embeddings_dict[word] = vector\n",
    "    return embeddings_dict\n",
    "\n",
    "GloVe_link = 'glove.6B.50d.txt'\n",
    "GloVe_dict = get_GloVe_dict(GloVe_link)"
   ]
  },
  {
   "cell_type": "code",
   "execution_count": 10,
   "metadata": {
    "id": "DXRyFSLtr4_k"
   },
   "outputs": [],
   "source": [
    "def create_embedding_matrix(GloVe_dict, tokenizer, max_features):\n",
    "    '''\n",
    "    input: GloVe dictionaray, tokenizer từ tập huấn luyện và tập kiểm định, số lượng đặc trưng tối đa.\n",
    "    output: Word embedding matrix.\n",
    "    '''\n",
    "\n",
    "    ## VIẾT CODE cho task 6 ở đây:\n",
    "    all_embs = np.stack(list(GloVe_dict.values()))\n",
    "    emb_mean,emb_std = all_embs.mean(), all_embs.std()\n",
    "    number_of_words = min(max_features, (len(tokenizer.word_index)+1))\n",
    "    embedding_matrix = np.random.normal(emb_mean, emb_std, (number_of_words, embed_size))\n",
    "    for word, i in tokenizer.word_index.items():\n",
    "      i -= 1\n",
    "      embedding_value = GloVe_dict.get(word)\n",
    "      if embedding_value is not None and i < number_of_words:\n",
    "        embedding_matrix[i] = embedding_value\n",
    "    return embedding_matrix\n",
    "\n",
    "embedding_matrix = create_embedding_matrix(GloVe_dict, tokenizer, max_features)"
   ]
  },
  {
   "cell_type": "markdown",
   "metadata": {
    "id": "NWybjdQkqWrg"
   },
   "source": [
    "# III. Lập mô hình\n",
    "Chúng ta cần hoàn thành một số bước:\n",
    "\n",
    "Xây dựng mô hình.\n",
    "\n",
    "Biên dịch mô hình.\n",
    "\n",
    "Huấn luyện/khớp dữ liệu với mô hình.\n",
    "\n",
    "Đánh giá mô hình trên tập kiểm tra."
   ]
  },
  {
   "cell_type": "markdown",
   "metadata": {
    "id": "I6AMfqQkqcET"
   },
   "source": [
    "## Xây dựng mô hình\n",
    "**Task 7:** Chúng ta có thể xây dựng một mô hình dễ dàng gồm các layer khác nhau như:\n",
    "* Layer [Embedding](https://keras.io/layers/embeddings/) với max_features, embed_size và embedding_matrix.\n",
    "* [Bidirectional LSTM layer](https://keras.io/examples/nlp/bidirectional_lstm_imdb/?fbclid=IwAR3fEd6aWyeIDEhZSspjtCRiP0c0Jnz5-XdnUHQYwX8Tp8k9Ni4I8Q5tP9o) với số lượng trạng thái ẩn = 50, dropout_rate = 0.1 và recurrent_dropout_rate = 0.1.\n",
    "* GlobalMaxPool1D.\n",
    "* Dense với số nút = 50, activation = 'relu'.\n",
    "* Dropout với rate = 0.1.\n",
    "* Final dense với số nút = số class, activation = 'sigmoid'."
   ]
  },
  {
   "cell_type": "code",
   "execution_count": 11,
   "metadata": {
    "colab": {
     "base_uri": "https://localhost:8080/"
    },
    "id": "J7_eizWaqi_7",
    "outputId": "8c2996f5-9b2a-4f02-b8d2-25d2ba1d40d1"
   },
   "outputs": [
    {
     "name": "stderr",
     "output_type": "stream",
     "text": [
      "WARNING:tensorflow:Layer lstm will not use cuDNN kernels since it doesn't meet the criteria. It will use a generic GPU kernel as fallback when running on GPU.\n",
      "WARNING:tensorflow:Layer lstm will not use cuDNN kernels since it doesn't meet the criteria. It will use a generic GPU kernel as fallback when running on GPU.\n",
      "WARNING:tensorflow:Layer lstm will not use cuDNN kernels since it doesn't meet the criteria. It will use a generic GPU kernel as fallback when running on GPU.\n"
     ]
    }
   ],
   "source": [
    "def create_model(max_len, max_features, embed_size):\n",
    "    '''\n",
    "    input: max_len, max_features, embed_size\n",
    "    output: model.\n",
    "    '''\n",
    "    ## VIẾT CODE cho task 7 ở đây:\n",
    "    inputs = Input(shape=(max_len, ))\n",
    "    # Layer Embedding\n",
    "    x = Embedding(input_dim=max_features,\n",
    "                  output_dim=embed_size,\n",
    "                  input_length=max_len,\n",
    "                  embeddings_initializer=tensorflow.keras.initializers.Constant(embedding_matrix),\n",
    "                  trainable=False)(inputs)\n",
    "    # Layer Bidirectional LSTM\n",
    "    x = Bidirectional(LSTM(50,\n",
    "                           return_sequences=True,\n",
    "                           dropout=0.1,\n",
    "                           recurrent_dropout=0.1))(x)\n",
    "    x = GlobalMaxPool1D()(x)\n",
    "    x = Dense(50, activation='relu')(x)\n",
    "    x = Dropout(0.1)(x)\n",
    "    outputs = Dense(2, activation='sigmoid')(x)\n",
    "    model = Model(inputs=inputs, outputs=outputs)\n",
    "    return model\n",
    "\n",
    "model = create_model(max_len, max_features, embed_size)"
   ]
  },
  {
   "cell_type": "markdown",
   "metadata": {
    "id": "lWcBKhzMux9Z"
   },
   "source": [
    "**Task 8:** Biên dịch mô hình và thiết lập callback. Sau đó in ra model summary.\n",
    "* [Biên dịch](https://keras.io/models/model/#compile) mô hình với Adam Optimizer, lr = 1e-2, loss phù hợp cho bài toán phân loại nhị phân và [\"F1-score\"](https://github.com/tensorflow/addons/issues/825) là phép đo.\n",
    "* In ra model summary."
   ]
  },
  {
   "cell_type": "code",
   "execution_count": 12,
   "metadata": {
    "colab": {
     "base_uri": "https://localhost:8080/"
    },
    "id": "P9l8EbG0ur1F",
    "outputId": "bc2c1eb5-3d60-4264-f218-64a42c4ac189"
   },
   "outputs": [
    {
     "name": "stdout",
     "output_type": "stream",
     "text": [
      "Model: \"model\"\n",
      "_________________________________________________________________\n",
      " Layer (type)                Output Shape              Param #   \n",
      "=================================================================\n",
      " input_1 (InputLayer)        [(None, 50)]              0         \n",
      "                                                                 \n",
      " embedding (Embedding)       (None, 50, 50)            1000000   \n",
      "                                                                 \n",
      " bidirectional (Bidirection  (None, 50, 100)           40400     \n",
      " al)                                                             \n",
      "                                                                 \n",
      " global_max_pooling1d (Glob  (None, 100)               0         \n",
      " alMaxPooling1D)                                                 \n",
      "                                                                 \n",
      " dense (Dense)               (None, 50)                5050      \n",
      "                                                                 \n",
      " dropout (Dropout)           (None, 50)                0         \n",
      "                                                                 \n",
      " dense_1 (Dense)             (None, 2)                 102       \n",
      "                                                                 \n",
      "=================================================================\n",
      "Total params: 1045552 (3.99 MB)\n",
      "Trainable params: 45552 (177.94 KB)\n",
      "Non-trainable params: 1000000 (3.81 MB)\n",
      "_________________________________________________________________\n",
      "None\n"
     ]
    }
   ],
   "source": [
    "from sklearn import metrics\n",
    "def optimize(model):\n",
    "    '''\n",
    "    Input:\n",
    "        Mô hình.\n",
    "    Return:\n",
    "        Mô hình đã biên dịch.\n",
    "    '''\n",
    "    ## VIẾT CODE cho task 8 ở đây:\n",
    "    model.compile(loss = 'binary_crossentropy',\n",
    "                  optimizer = Optimizer.Adam(learning_rate=1e-2),\n",
    "                  metrics = ['accuracy', tfa.metrics.F1Score(average='weighted', num_classes=2)])\n",
    "    return model\n",
    "\n",
    "model = optimize(model)\n",
    "print(model.summary())"
   ]
  },
  {
   "cell_type": "markdown",
   "metadata": {
    "id": "0BlenccGzLVr"
   },
   "source": [
    "**Task 9**: Thiết lập callback.\n",
    "* Tạo [tensorboard callback](https://www.tensorflow.org/tensorboard/tensorboard_in_notebooks) để lưu logs.\n",
    "* Tạo [checkpoint callback](https://machinelearningmastery.com/check-point-deep-learning-models-keras/) để lưu checkpoint với độ chính xác tốt nhất sau mỗi epoch.\n",
    "* Tạo [ReduceLROnPlateau](https://keras.io/callbacks/#reducelronplateau) callback với factor=0.3, patience=1 và \"Validation F1-score\" monitor.\n",
    "* Tạo [early stopping callback](https://keras.io/callbacks/#earlystopping) với patience=7, mode = 'max' và \"Validation F1-score\" monitor.\n",
    "\n"
   ]
  },
  {
   "cell_type": "code",
   "execution_count": 13,
   "metadata": {
    "id": "I6x6dteutin0"
   },
   "outputs": [],
   "source": [
    "def callback_model(checkpoint_name, logs_name):\n",
    "    '''\n",
    "    Input:\n",
    "        Checkpoint name, logs name tốt nhất.\n",
    "    Return:\n",
    "        Callback list có chứa tensorboard callback và checkpoint callback.\n",
    "    '''\n",
    "    ## VIẾT CODE cho task 9 ở đây:\n",
    "    logdir = os.path.join(logs_name, datetime.datetime.now().strftime(\"%Y%m%d-%H%M%S\"))\n",
    "    tensorboard = TensorBoard(log_dir=logdir)\n",
    "    checkpoint = ModelCheckpoint(filepath=checkpoint_name,\n",
    "                                 monitor='val_accuracy',\n",
    "                                 save_best_only=True,\n",
    "                                 mode='max')\n",
    "    reducelronplateau = tensorflow.keras.callbacks.ReduceLROnPlateau(factor=0.3,\n",
    "                                                                     patience=1,\n",
    "                                                                     monitor='f1_score')\n",
    "    early_stopping = tensorflow.keras.callbacks.EarlyStopping(patience=7,\n",
    "                                                              mode='max',\n",
    "                                                              monitor='f1_score')\n",
    "    callbacks_list = [tensorboard,\n",
    "                      checkpoint,\n",
    "                      reducelronplateau,\n",
    "                      early_stopping\n",
    "                      ]\n",
    "\n",
    "    return callbacks_list\n",
    "\n",
    "checkpoint_name = 'weights.best.h5'\n",
    "logs_name = 'training_logs'\n",
    "callbacks_list = callback_model(checkpoint_name, logs_name)"
   ]
  },
  {
   "cell_type": "code",
   "execution_count": null,
   "metadata": {
    "colab": {
     "base_uri": "https://localhost:8080/"
    },
    "id": "WHTwh8OyvGqa",
    "outputId": "40a10898-5804-4fea-ecb7-8d175da098a2"
   },
   "outputs": [
    {
     "name": "stdout",
     "output_type": "stream",
     "text": [
      "Model: \"model\"\n",
      "_________________________________________________________________\n",
      " Layer (type)                Output Shape              Param #   \n",
      "=================================================================\n",
      " input_1 (InputLayer)        [(None, 50)]              0         \n",
      "                                                                 \n",
      " embedding (Embedding)       (None, 50, 50)            1000000   \n",
      "                                                                 \n",
      " bidirectional (Bidirection  (None, 50, 100)           40400     \n",
      " al)                                                             \n",
      "                                                                 \n",
      " global_max_pooling1d (Glob  (None, 100)               0         \n",
      " alMaxPooling1D)                                                 \n",
      "                                                                 \n",
      " dense (Dense)               (None, 50)                5050      \n",
      "                                                                 \n",
      " dropout (Dropout)           (None, 50)                0         \n",
      "                                                                 \n",
      " dense_1 (Dense)             (None, 2)                 102       \n",
      "                                                                 \n",
      "=================================================================\n",
      "Total params: 1045552 (3.99 MB)\n",
      "Trainable params: 45552 (177.94 KB)\n",
      "Non-trainable params: 1000000 (3.81 MB)\n",
      "_________________________________________________________________\n"
     ]
    }
   ],
   "source": [
    "model.summary()"
   ]
  },
  {
   "cell_type": "markdown",
   "metadata": {
    "id": "9nDCsHAC2HwW"
   },
   "source": [
    "**Task 10:** Huấn luyện mô hình.\n",
    "\n",
    "* Huấn luyện mô hình với 20 epoch với batch_size = 4096.\n",
    "* Trả về mô hình có trọng số checkpoint tốt nhất.\n",
    "\n",
    "*Gợi ý*: Trước tiên hãy khớp mô hình, sau đó reload mô hình (hàm load_model) với trọng số checkpoint tốt nhất."
   ]
  },
  {
   "cell_type": "code",
   "execution_count": null,
   "metadata": {
    "colab": {
     "base_uri": "https://localhost:8080/"
    },
    "id": "xttwiHh4u0ES",
    "outputId": "382c34d5-f55d-4829-d98d-f8228536e7e2"
   },
   "outputs": [
    {
     "name": "stdout",
     "output_type": "stream",
     "text": [
      "Epoch 1/20\n",
      "287/287 [==============================] - ETA: 0s - loss: 0.1799 - accuracy: 0.9416 - f1_score: 0.9246"
     ]
    },
    {
     "name": "stderr",
     "output_type": "stream",
     "text": [
      "/usr/local/lib/python3.10/dist-packages/keras/src/engine/training.py:3000: UserWarning: You are saving your model as an HDF5 file via `model.save()`. This file format is considered legacy. We recommend using instead the native Keras format, e.g. `model.save('my_model.keras')`.\n",
      "  saving_api.save_model(\n"
     ]
    },
    {
     "name": "stdout",
     "output_type": "stream",
     "text": [
      "\b\b\b\b\b\b\b\b\b\b\b\b\b\b\b\b\b\b\b\b\b\b\b\b\b\b\b\b\b\b\b\b\b\b\b\b\b\b\b\b\b\b\b\b\b\b\b\b\b\b\b\b\b\b\b\b\b\b\b\b\b\b\b\b\b\b\b\b\b\b\b\b\b\b\b\b\b\b\b\b\b\b\b\b\b\b\b\b\b\b\b\b\b\b\b\b\b\b\b\b\b\b\b\r",
      "287/287 [==============================] - 158s 513ms/step - loss: 0.1799 - accuracy: 0.9416 - f1_score: 0.9246 - val_loss: 0.1465 - val_accuracy: 0.9457 - val_f1_score: 0.9394 - lr: 0.0100\n",
      "Epoch 2/20\n",
      "287/287 [==============================] - 125s 437ms/step - loss: 0.1453 - accuracy: 0.9470 - f1_score: 0.9392 - val_loss: 0.1355 - val_accuracy: 0.9493 - val_f1_score: 0.9428 - lr: 0.0100\n",
      "Epoch 3/20\n",
      "287/287 [==============================] - 123s 428ms/step - loss: 0.1364 - accuracy: 0.9493 - f1_score: 0.9433 - val_loss: 0.1316 - val_accuracy: 0.9492 - val_f1_score: 0.9459 - lr: 0.0030\n",
      "Epoch 4/20\n",
      "287/287 [==============================] - 125s 436ms/step - loss: 0.1335 - accuracy: 0.9502 - f1_score: 0.9446 - val_loss: 0.1307 - val_accuracy: 0.9505 - val_f1_score: 0.9461 - lr: 9.0000e-04\n",
      "Epoch 5/20\n",
      "287/287 [==============================] - 123s 429ms/step - loss: 0.1324 - accuracy: 0.9506 - f1_score: 0.9453 - val_loss: 0.1300 - val_accuracy: 0.9506 - val_f1_score: 0.9465 - lr: 2.7000e-04\n",
      "Epoch 6/20\n",
      "287/287 [==============================] - 124s 429ms/step - loss: 0.1321 - accuracy: 0.9505 - f1_score: 0.9451 - val_loss: 0.1300 - val_accuracy: 0.9507 - val_f1_score: 0.9463 - lr: 8.1000e-05\n",
      "Epoch 7/20\n",
      "287/287 [==============================] - 121s 422ms/step - loss: 0.1320 - accuracy: 0.9506 - f1_score: 0.9452 - val_loss: 0.1299 - val_accuracy: 0.9507 - val_f1_score: 0.9469 - lr: 2.4300e-05\n",
      "Epoch 8/20\n",
      "287/287 [==============================] - 124s 431ms/step - loss: 0.1319 - accuracy: 0.9508 - f1_score: 0.9455 - val_loss: 0.1299 - val_accuracy: 0.9507 - val_f1_score: 0.9469 - lr: 7.2900e-06\n",
      "Epoch 9/20\n",
      "287/287 [==============================] - 120s 418ms/step - loss: 0.1321 - accuracy: 0.9506 - f1_score: 0.9452 - val_loss: 0.1299 - val_accuracy: 0.9505 - val_f1_score: 0.9468 - lr: 2.1870e-06\n",
      "Epoch 10/20\n",
      "287/287 [==============================] - 120s 418ms/step - loss: 0.1318 - accuracy: 0.9506 - f1_score: 0.9453 - val_loss: 0.1299 - val_accuracy: 0.9505 - val_f1_score: 0.9468 - lr: 6.5610e-07\n",
      "Epoch 11/20\n",
      "287/287 [==============================] - 117s 409ms/step - loss: 0.1320 - accuracy: 0.9506 - f1_score: 0.9452 - val_loss: 0.1299 - val_accuracy: 0.9505 - val_f1_score: 0.9468 - lr: 1.9683e-07\n",
      "Epoch 12/20\n",
      "287/287 [==============================] - 120s 417ms/step - loss: 0.1318 - accuracy: 0.9506 - f1_score: 0.9453 - val_loss: 0.1299 - val_accuracy: 0.9505 - val_f1_score: 0.9468 - lr: 5.9049e-08\n",
      "Epoch 13/20\n",
      "287/287 [==============================] - 119s 414ms/step - loss: 0.1320 - accuracy: 0.9507 - f1_score: 0.9454 - val_loss: 0.1299 - val_accuracy: 0.9505 - val_f1_score: 0.9468 - lr: 1.7715e-08\n",
      "Epoch 14/20\n",
      "287/287 [==============================] - 121s 422ms/step - loss: 0.1319 - accuracy: 0.9507 - f1_score: 0.9454 - val_loss: 0.1299 - val_accuracy: 0.9505 - val_f1_score: 0.9468 - lr: 5.3144e-09\n",
      "Epoch 15/20\n",
      "287/287 [==============================] - 119s 414ms/step - loss: 0.1321 - accuracy: 0.9506 - f1_score: 0.9452 - val_loss: 0.1299 - val_accuracy: 0.9505 - val_f1_score: 0.9468 - lr: 1.5943e-09\n"
     ]
    }
   ],
   "source": [
    "def train_model(model, callbacks_list):\n",
    "    '''\n",
    "    Input:\n",
    "        Mô hình và callback list,\n",
    "    Return:\n",
    "        Mô hình với trọng số checkpoint tốt nhất.\n",
    "    '''\n",
    "    ## VIẾT CODE cho task 10 ở đây:\n",
    "    epochs = 20\n",
    "    batch_size = 4096\n",
    "    model.fit(X_tr,\n",
    "              y_tr,\n",
    "              batch_size=batch_size,\n",
    "              epochs=epochs,\n",
    "              validation_data=(X_va, y_va),\n",
    "              callbacks=[callbacks_list])\n",
    "    #model.save('weights.best.h5')\n",
    "    #model = load_model('weights.best.h5')\n",
    "\n",
    "    return model\n",
    "\n",
    "model = train_model(model, callbacks_list)\n"
   ]
  },
  {
   "cell_type": "markdown",
   "metadata": {
    "id": "QsG02Ao07Mc-"
   },
   "source": [
    "**Task 11:** Hiển thị tensorboard trong notebook."
   ]
  },
  {
   "cell_type": "code",
   "execution_count": null,
   "metadata": {
    "colab": {
     "base_uri": "https://localhost:8080/"
    },
    "id": "jpBk-EKZ2Ut7",
    "outputId": "570af006-3107-4abd-e1cf-27b621b3cbbe"
   },
   "outputs": [
    {
     "name": "stdout",
     "output_type": "stream",
     "text": [
      "2023-10-01 04:53:08.405782: W tensorflow/compiler/tf2tensorrt/utils/py_utils.cc:38] TF-TRT Warning: Could not find TensorRT\n",
      "\n",
      "***** TensorBoard Uploader *****\n",
      "\n",
      "This will upload your TensorBoard logs to https://tensorboard.dev/ from\n",
      "the following directory:\n",
      "\n",
      "./training_logs\n",
      "\n",
      "This TensorBoard will be visible to everyone. Do not upload sensitive\n",
      "data.\n",
      "\n",
      "Your use of this service is subject to Google's Terms of Service\n",
      "<https://policies.google.com/terms> and Privacy Policy\n",
      "<https://policies.google.com/privacy>, and TensorBoard.dev's Terms of Service\n",
      "<https://tensorboard.dev/policy/terms/>.\n",
      "\n",
      "This notice will not be shown again while you are logged into the uploader.\n",
      "To log out, run `tensorboard dev auth revoke`.\n",
      "\n",
      "Continue? (yes/NO) yes\n",
      "\n",
      "To sign in with the TensorBoard uploader:\n",
      "\n",
      "1. On your computer or phone, visit:\n",
      "\n",
      "   https://www.google.com/device\n",
      "\n",
      "2. Sign in with your Google account, then enter:\n",
      "\n",
      "   WMX-CNB-PQS\n",
      "\n",
      "\n",
      "\n",
      "New experiment created. View your TensorBoard at: https://tensorboard.dev/experiment/52B19Nc6R6mHys9n0YRYUg/\n",
      "\n",
      "\u001b[1m[2023-10-01T04:53:31]\u001b[0m Started scanning logdir.\n",
      "\u001b[1m[2023-10-01T04:53:32]\u001b[0m Total uploaded: 135 scalars, 0 tensors, 1 binary objects (1.1 MB)\n",
      "\u001b[1m[2023-10-01T04:53:32]\u001b[0m Done scanning logdir.\n",
      "\n",
      "\n",
      "Done. View your TensorBoard at https://tensorboard.dev/experiment/52B19Nc6R6mHys9n0YRYUg/\n"
     ]
    }
   ],
   "source": [
    "## VIẾT CODE cho task 11 ở đây:\n",
    "# Upload các bản ghi TensorBoard dev\n",
    "!tensorboard dev upload --logdir ./training_logs \\\n",
    "  --name \"Text_Classification\" \\\n",
    "  --description \"ASM2\" \\\n",
    "  --one_shot"
   ]
  },
  {
   "cell_type": "markdown",
   "metadata": {
    "id": "4z1ed1CY8Rxh"
   },
   "source": [
    "**Task 12:** Dự đoán trên tập kiểm tra.\n",
    "\n",
    "* Hoàn thành hàm get_prediction_classes.\n",
    "* In ra precision, recall và F1 score."
   ]
  },
  {
   "cell_type": "code",
   "execution_count": null,
   "metadata": {
    "colab": {
     "base_uri": "https://localhost:8080/"
    },
    "id": "gHTjBLZYvx26",
    "outputId": "61308b32-4595-43c2-f528-cfb2384fd740"
   },
   "outputs": [
    {
     "name": "stdout",
     "output_type": "stream",
     "text": [
      "2041/2041 [==============================] - 63s 31ms/step\n",
      "0.638051857042747\n",
      "0.4579979879275654\n",
      "0.5332357247437775\n"
     ]
    }
   ],
   "source": [
    "def get_prediction_classes(model, X, y):\n",
    "    ## VIẾT CODE cho task 12 ở đây:\n",
    "    '''\n",
    "    Input:\n",
    "        Mô hình và tập dữ liệu dự đoán.\n",
    "    Return:\n",
    "        Prediction list và groundtrurth list với predicted classes.\n",
    "    '''\n",
    "    y_pred = model.predict(X)\n",
    "    predictions = np.argmax(y_pred, axis=1)\n",
    "    groundtruths = np.argmax(y, axis=1)\n",
    "\n",
    "    return predictions, groundtruths\n",
    "\n",
    "test_predictions, test_groundtruths = get_prediction_classes(model,  X_te, y_te)\n",
    "print(precision_score(test_groundtruths, test_predictions))\n",
    "print(recall_score(test_groundtruths, test_predictions))\n",
    "print(f1_score(test_groundtruths, test_predictions))"
   ]
  },
  {
   "cell_type": "markdown",
   "metadata": {
    "id": "JJwQahjp8hZs"
   },
   "source": [
    "**Task 13:** Thực hiện kết quả dự đoán trên tập kiểm tra bằng cách sử dụng ma trận nhầm lẫn. Hãy nhớ hiển thị tên lớp trong ma trận nhầm lẫn."
   ]
  },
  {
   "cell_type": "code",
   "execution_count": null,
   "metadata": {
    "colab": {
     "base_uri": "https://localhost:8080/",
     "height": 530
    },
    "id": "5KKAmOGvv2Be",
    "outputId": "55ced551-031b-4ccd-8f9a-c9e9a6b8ebac"
   },
   "outputs": [
    {
     "data": {
      "image/png": "[encoded data removed]",
      "text/plain": [
       "<Figure size 640x480 with 2 Axes>"
      ]
     },
     "metadata": {},
     "output_type": "display_data"
    }
   ],
   "source": [
    "def plot_confusion_matrix(predictions, groundtruth, class_names):\n",
    "    ## VIẾT CODE cho task 13 ở đây:\n",
    "    cf_matrix = CM(groundtruth, predictions)\n",
    "    ax = sn.heatmap(cf_matrix, annot=True, cmap='Blues')\n",
    "\n",
    "    ax.set_title('Seaborn Confusion Matrix\\n\\n');\n",
    "    ax.set_xlabel('\\nPredicted Values')\n",
    "    ax.set_ylabel('Actual Values ');\n",
    "\n",
    "    ## Ticket labels - List must be in alphabetical order\n",
    "    ax.xaxis.set_ticklabels(class_names)\n",
    "    ax.yaxis.set_ticklabels(class_names)\n",
    "\n",
    "    plot.show()\n",
    "\n",
    "class_names = ['invalid', 'valid']\n",
    "plot_confusion_matrix(test_predictions, test_groundtruths, class_names)"
   ]
  },
  {
   "cell_type": "markdown",
   "metadata": {
    "id": "fGmUAFDi87Z6"
   },
   "source": [
    "**Task 14**: Tinh chỉnh mô hình - tinh chỉnh mô hình bằng cách sử dụng một số phương pháp sau:\n",
    "* Tăng tối đa epoch, thay đổi batch size.\n",
    "* Thay thế LSTM bằng các nút GRU và kiểm tra xem nó có thay đổi gì không.\n",
    "* Thêm một layer LSTM/GRU khác hoặc thay thế nó bằng mô-đun Attention/Transformers, xem có cải thiện gì không.\n",
    "* Thử với Dense layer (add/# units/...).\n",
    "* Tìm các quy tắc tiền xử lý mà bạn có thể thêm để cải thiện chất lượng dữ liệu.\n",
    "* Find another GloVe dictionary. Tìm một GloVe dictionary khác.\n",
    "Yêu cầu: F1 score phải tăng thêm 2-3%."
   ]
  },
  {
   "cell_type": "code",
   "execution_count": null,
   "metadata": {
    "id": "ELLyczmROE8J"
   },
   "outputs": [],
   "source": [
    "## VIẾT CODE cho task 14 ở đây:"
   ]
  },
  {
   "cell_type": "code",
   "execution_count": null,
   "metadata": {
    "colab": {
     "base_uri": "https://localhost:8080/"
    },
    "id": "6svfebHkKFFH",
    "outputId": "11ab025e-e39a-4bc0-cb7a-dcc77976852f"
   },
   "outputs": [
    {
     "name": "stderr",
     "output_type": "stream",
     "text": [
      "WARNING:tensorflow:Layer gru will not use cuDNN kernels since it doesn't meet the criteria. It will use a generic GPU kernel as fallback when running on GPU.\n",
      "WARNING:tensorflow:Layer gru will not use cuDNN kernels since it doesn't meet the criteria. It will use a generic GPU kernel as fallback when running on GPU.\n",
      "WARNING:tensorflow:Layer gru will not use cuDNN kernels since it doesn't meet the criteria. It will use a generic GPU kernel as fallback when running on GPU.\n"
     ]
    },
    {
     "name": "stdout",
     "output_type": "stream",
     "text": [
      "Epoch 1/20\n",
      "287/287 [==============================] - 118s 387ms/step - loss: 0.2284 - accuracy: 0.9333 - f1_score: 0.9064 - val_loss: 0.1908 - val_accuracy: 0.9377 - val_f1_score: 0.9076 - lr: 0.0010\n",
      "Epoch 2/20\n",
      "287/287 [==============================] - 113s 393ms/step - loss: 0.1790 - accuracy: 0.9397 - f1_score: 0.9155 - val_loss: 0.1666 - val_accuracy: 0.9414 - val_f1_score: 0.9260 - lr: 0.0010\n",
      "Epoch 3/20\n",
      "287/287 [==============================] - 112s 390ms/step - loss: 0.1669 - accuracy: 0.9420 - f1_score: 0.9251 - val_loss: 0.1623 - val_accuracy: 0.9421 - val_f1_score: 0.9303 - lr: 3.0000e-04\n",
      "Epoch 4/20\n",
      "287/287 [==============================] - 112s 390ms/step - loss: 0.1641 - accuracy: 0.9427 - f1_score: 0.9275 - val_loss: 0.1608 - val_accuracy: 0.9431 - val_f1_score: 0.9294 - lr: 9.0000e-05\n",
      "Epoch 5/20\n",
      "287/287 [==============================] - 120s 419ms/step - loss: 0.1635 - accuracy: 0.9429 - f1_score: 0.9280 - val_loss: 0.1605 - val_accuracy: 0.9432 - val_f1_score: 0.9296 - lr: 2.7000e-05\n",
      "Epoch 6/20\n",
      "287/287 [==============================] - 113s 394ms/step - loss: 0.1632 - accuracy: 0.9429 - f1_score: 0.9281 - val_loss: 0.1604 - val_accuracy: 0.9430 - val_f1_score: 0.9295 - lr: 8.1000e-06\n",
      "Epoch 7/20\n",
      "287/287 [==============================] - 111s 387ms/step - loss: 0.1633 - accuracy: 0.9429 - f1_score: 0.9281 - val_loss: 0.1605 - val_accuracy: 0.9432 - val_f1_score: 0.9294 - lr: 2.4300e-06\n",
      "Epoch 8/20\n",
      "287/287 [==============================] - 113s 394ms/step - loss: 0.1631 - accuracy: 0.9430 - f1_score: 0.9283 - val_loss: 0.1605 - val_accuracy: 0.9432 - val_f1_score: 0.9294 - lr: 7.2900e-07\n",
      "Epoch 9/20\n",
      "287/287 [==============================] - 114s 395ms/step - loss: 0.1630 - accuracy: 0.9430 - f1_score: 0.9283 - val_loss: 0.1605 - val_accuracy: 0.9432 - val_f1_score: 0.9294 - lr: 2.1870e-07\n",
      "Epoch 10/20\n",
      "287/287 [==============================] - 112s 391ms/step - loss: 0.1630 - accuracy: 0.9430 - f1_score: 0.9283 - val_loss: 0.1605 - val_accuracy: 0.9432 - val_f1_score: 0.9294 - lr: 6.5610e-08\n",
      "Epoch 11/20\n",
      "287/287 [==============================] - 111s 385ms/step - loss: 0.1632 - accuracy: 0.9429 - f1_score: 0.9282 - val_loss: 0.1605 - val_accuracy: 0.9432 - val_f1_score: 0.9294 - lr: 1.9683e-08\n",
      "Epoch 12/20\n",
      "287/287 [==============================] - 112s 388ms/step - loss: 0.1629 - accuracy: 0.9430 - f1_score: 0.9283 - val_loss: 0.1605 - val_accuracy: 0.9432 - val_f1_score: 0.9294 - lr: 5.9049e-09\n",
      "Epoch 13/20\n",
      "287/287 [==============================] - 111s 384ms/step - loss: 0.1631 - accuracy: 0.9430 - f1_score: 0.9283 - val_loss: 0.1605 - val_accuracy: 0.9432 - val_f1_score: 0.9294 - lr: 1.7715e-09\n",
      "Epoch 14/20\n",
      "287/287 [==============================] - 109s 380ms/step - loss: 0.1631 - accuracy: 0.9431 - f1_score: 0.9284 - val_loss: 0.1605 - val_accuracy: 0.9432 - val_f1_score: 0.9294 - lr: 5.3144e-10\n",
      "Epoch 15/20\n",
      "287/287 [==============================] - 110s 382ms/step - loss: 0.1631 - accuracy: 0.9430 - f1_score: 0.9282 - val_loss: 0.1605 - val_accuracy: 0.9432 - val_f1_score: 0.9294 - lr: 1.5943e-10\n",
      "Epoch 16/20\n",
      "287/287 [==============================] - 110s 382ms/step - loss: 0.1632 - accuracy: 0.9430 - f1_score: 0.9283 - val_loss: 0.1605 - val_accuracy: 0.9432 - val_f1_score: 0.9294 - lr: 4.7830e-11\n",
      "Epoch 17/20\n",
      "287/287 [==============================] - 109s 381ms/step - loss: 0.1630 - accuracy: 0.9429 - f1_score: 0.9282 - val_loss: 0.1605 - val_accuracy: 0.9432 - val_f1_score: 0.9294 - lr: 1.4349e-11\n",
      "Epoch 18/20\n",
      "287/287 [==============================] - 110s 384ms/step - loss: 0.1631 - accuracy: 0.9429 - f1_score: 0.9282 - val_loss: 0.1605 - val_accuracy: 0.9432 - val_f1_score: 0.9294 - lr: 4.3047e-12\n",
      "Epoch 19/20\n",
      "287/287 [==============================] - 108s 376ms/step - loss: 0.1631 - accuracy: 0.9429 - f1_score: 0.9282 - val_loss: 0.1605 - val_accuracy: 0.9432 - val_f1_score: 0.9294 - lr: 1.2914e-12\n",
      "Epoch 20/20\n",
      "287/287 [==============================] - 110s 381ms/step - loss: 0.1630 - accuracy: 0.9429 - f1_score: 0.9282 - val_loss: 0.1605 - val_accuracy: 0.9432 - val_f1_score: 0.9294 - lr: 3.8742e-13\n"
     ]
    }
   ],
   "source": [
    "# Thay thế LSTM bằng GRU\n",
    "inputs = Input(shape=(max_len, ))\n",
    "x = Embedding(input_dim=max_features,\n",
    "              output_dim=embed_size,\n",
    "              input_length=max_len,\n",
    "              embeddings_initializer=tensorflow.keras.initializers.Constant(embedding_matrix),\n",
    "              trainable=False)(inputs)\n",
    "x = Bidirectional(layers.GRU(50,\n",
    "                             dropout=0.1,\n",
    "                             recurrent_dropout=0.1,\n",
    "                             return_sequences=True))(x)\n",
    "x = GlobalMaxPool1D()(x)\n",
    "x = Dense(50, activation='relu')(x)\n",
    "x = Dropout(0.1)(x)\n",
    "outputs = Dense(2, activation='sigmoid')(x)\n",
    "model_1 = Model(inputs=inputs, outputs=outputs)\n",
    "\n",
    "model_1.compile(loss = 'binary_crossentropy',\n",
    "                optimizer = Optimizer.Adam(),\n",
    "                metrics = ['accuracy', tfa.metrics.F1Score(average='weighted', num_classes=2)])\n",
    "\n",
    "model_1_his = model_1.fit(X_tr, y_tr, batch_size=4096, epochs=20, validation_data=(X_va, y_va), callbacks=[callbacks_list])"
   ]
  },
  {
   "cell_type": "code",
   "execution_count": null,
   "metadata": {
    "colab": {
     "base_uri": "https://localhost:8080/"
    },
    "id": "McjXMbuRoua-",
    "outputId": "f86e9cf1-2f0a-4c3a-d2ca-251bf898df8c"
   },
   "outputs": [
    {
     "name": "stdout",
     "output_type": "stream",
     "text": [
      "2041/2041 [==============================] - 67s 32ms/step\n",
      "0.6450320512820513\n",
      "0.20246478873239437\n",
      "0.30819295558958654\n"
     ]
    }
   ],
   "source": [
    "test_predictions_1, test_groundtruths_1 = get_prediction_classes(model_1,  X_te, y_te)\n",
    "print(precision_score(test_groundtruths_1, test_predictions_1))\n",
    "print(recall_score(test_groundtruths_1, test_predictions_1))\n",
    "print(f1_score(test_groundtruths_1, test_predictions_1))"
   ]
  },
  {
   "cell_type": "code",
   "execution_count": null,
   "metadata": {
    "id": "7BMgZOQBGRF-"
   },
   "outputs": [],
   "source": [
    "# Thay layer Transformer"
   ]
  },
  {
   "cell_type": "code",
   "execution_count": 15,
   "metadata": {
    "id": "Jt8G5_EyrRG5"
   },
   "outputs": [],
   "source": [
    "class TransformerBlock(layers.Layer):\n",
    "    def __init__(self, embed_dim, num_heads, ff_dim, rate=0.1):\n",
    "        super(TransformerBlock, self).__init__()\n",
    "        self.att = layers.MultiHeadAttention(num_heads=num_heads,\n",
    "                                             key_dim=embed_dim)\n",
    "        self.ffn = tensorflow.keras.Sequential([\n",
    "            layers.Dense(ff_dim, activation=\"relu\"),\n",
    "            layers.Dense(embed_dim),\n",
    "        ])\n",
    "        self.layernorm1 = layers.LayerNormalization(epsilon=1e-6)\n",
    "        self.layernorm2 = layers.LayerNormalization(epsilon=1e-6)\n",
    "        self.dropout1 = layers.Dropout(rate)\n",
    "        self.dropout2 = layers.Dropout(rate)\n",
    "\n",
    "    def call(self, inputs, training):\n",
    "        attn_output = self.att(inputs, inputs)\n",
    "        attn_output = self.dropout1(attn_output, training=training)\n",
    "        out1 = self.layernorm1(inputs + attn_output)\n",
    "        ffn_output = self.ffn(out1)\n",
    "        ffn_output = self.dropout2(ffn_output, training=training)\n",
    "        return self.layernorm2(out1 + ffn_output)"
   ]
  },
  {
   "cell_type": "code",
   "execution_count": 16,
   "metadata": {
    "id": "8XkY9iOpruNp"
   },
   "outputs": [],
   "source": [
    "num_heads = 2\n",
    "ff_dim = 32\n",
    "transformer_block = TransformerBlock(embed_size, num_heads, ff_dim)"
   ]
  },
  {
   "cell_type": "code",
   "execution_count": 17,
   "metadata": {
    "colab": {
     "base_uri": "https://localhost:8080/"
    },
    "id": "fka-G6lWRZLP",
    "outputId": "396ddb93-1bd2-4341-978d-aa0d6cb6eeae"
   },
   "outputs": [
    {
     "name": "stdout",
     "output_type": "stream",
     "text": [
      "Epoch 1/20\n",
      "287/287 [==============================] - ETA: 0s - loss: 0.2378 - accuracy: 0.9373 - f1_score: 0.9078"
     ]
    },
    {
     "name": "stderr",
     "output_type": "stream",
     "text": [
      "/usr/local/lib/python3.10/dist-packages/keras/src/engine/training.py:3000: UserWarning: You are saving your model as an HDF5 file via `model.save()`. This file format is considered legacy. We recommend using instead the native Keras format, e.g. `model.save('my_model.keras')`.\n",
      "  saving_api.save_model(\n"
     ]
    },
    {
     "name": "stdout",
     "output_type": "stream",
     "text": [
      "\b\b\b\b\b\b\b\b\b\b\b\b\b\b\b\b\b\b\b\b\b\b\b\b\b\b\b\b\b\b\b\b\b\b\b\b\b\b\b\b\b\b\b\b\b\b\b\b\b\b\b\b\b\b\b\b\b\b\b\b\b\b\b\b\b\b\b\b\b\b\b\b\b\b\b\b\b\b\b\b\b\b\b\b\b\b\b\b\b\b\b\b\b\b\b\b\b\b\b\b\b\b\b\r",
      "287/287 [==============================] - 38s 94ms/step - loss: 0.2378 - accuracy: 0.9373 - f1_score: 0.9078 - val_loss: 0.2553 - val_accuracy: 0.9377 - val_f1_score: 0.9076 - lr: 0.0100\n",
      "Epoch 2/20\n",
      "287/287 [==============================] - 27s 93ms/step - loss: 0.1975 - accuracy: 0.9391 - f1_score: 0.9142 - val_loss: 0.1823 - val_accuracy: 0.9394 - val_f1_score: 0.9240 - lr: 0.0100\n",
      "Epoch 3/20\n",
      "287/287 [==============================] - 29s 101ms/step - loss: 0.1718 - accuracy: 0.9425 - f1_score: 0.9273 - val_loss: 0.1830 - val_accuracy: 0.9411 - val_f1_score: 0.9269 - lr: 0.0030\n",
      "Epoch 4/20\n",
      "287/287 [==============================] - 27s 94ms/step - loss: 0.1686 - accuracy: 0.9432 - f1_score: 0.9291 - val_loss: 0.1758 - val_accuracy: 0.9417 - val_f1_score: 0.9272 - lr: 9.0000e-04\n",
      "Epoch 5/20\n",
      "287/287 [==============================] - 23s 81ms/step - loss: 0.1675 - accuracy: 0.9435 - f1_score: 0.9297 - val_loss: 0.1738 - val_accuracy: 0.9417 - val_f1_score: 0.9272 - lr: 2.7000e-04\n",
      "Epoch 6/20\n",
      "287/287 [==============================] - 23s 81ms/step - loss: 0.1671 - accuracy: 0.9437 - f1_score: 0.9301 - val_loss: 0.1744 - val_accuracy: 0.9416 - val_f1_score: 0.9267 - lr: 8.1000e-05\n",
      "Epoch 7/20\n",
      "287/287 [==============================] - 23s 81ms/step - loss: 0.1669 - accuracy: 0.9436 - f1_score: 0.9300 - val_loss: 0.1744 - val_accuracy: 0.9417 - val_f1_score: 0.9274 - lr: 2.4300e-05\n",
      "Epoch 8/20\n",
      "287/287 [==============================] - 23s 80ms/step - loss: 0.1669 - accuracy: 0.9436 - f1_score: 0.9301 - val_loss: 0.1741 - val_accuracy: 0.9417 - val_f1_score: 0.9272 - lr: 7.2900e-06\n",
      "Epoch 9/20\n",
      "287/287 [==============================] - 23s 80ms/step - loss: 0.1668 - accuracy: 0.9436 - f1_score: 0.9301 - val_loss: 0.1741 - val_accuracy: 0.9416 - val_f1_score: 0.9272 - lr: 2.1870e-06\n",
      "Epoch 10/20\n",
      "287/287 [==============================] - 23s 81ms/step - loss: 0.1669 - accuracy: 0.9436 - f1_score: 0.9300 - val_loss: 0.1741 - val_accuracy: 0.9416 - val_f1_score: 0.9272 - lr: 6.5610e-07\n",
      "Epoch 11/20\n",
      "287/287 [==============================] - 23s 81ms/step - loss: 0.1668 - accuracy: 0.9436 - f1_score: 0.9300 - val_loss: 0.1741 - val_accuracy: 0.9416 - val_f1_score: 0.9272 - lr: 1.9683e-07\n",
      "Epoch 12/20\n",
      "287/287 [==============================] - 23s 81ms/step - loss: 0.1671 - accuracy: 0.9436 - f1_score: 0.9300 - val_loss: 0.1741 - val_accuracy: 0.9416 - val_f1_score: 0.9272 - lr: 5.9049e-08\n",
      "Epoch 13/20\n",
      "287/287 [==============================] - 23s 81ms/step - loss: 0.1669 - accuracy: 0.9436 - f1_score: 0.9300 - val_loss: 0.1741 - val_accuracy: 0.9416 - val_f1_score: 0.9272 - lr: 1.7715e-08\n",
      "Epoch 14/20\n",
      "287/287 [==============================] - 23s 81ms/step - loss: 0.1669 - accuracy: 0.9436 - f1_score: 0.9301 - val_loss: 0.1741 - val_accuracy: 0.9416 - val_f1_score: 0.9272 - lr: 5.3144e-09\n",
      "Epoch 15/20\n",
      "287/287 [==============================] - 23s 81ms/step - loss: 0.1669 - accuracy: 0.9436 - f1_score: 0.9300 - val_loss: 0.1741 - val_accuracy: 0.9416 - val_f1_score: 0.9272 - lr: 1.5943e-09\n"
     ]
    },
    {
     "data": {
      "text/plain": [
       "<keras.src.callbacks.History at 0x7b151b665960>"
      ]
     },
     "execution_count": 17,
     "metadata": {},
     "output_type": "execute_result"
    }
   ],
   "source": [
    "inputs = Input(shape=(max_len, ))\n",
    "x = Embedding(input_dim=max_features,\n",
    "              output_dim=embed_size,\n",
    "              input_length=max_len,\n",
    "              embeddings_initializer=tensorflow.keras.initializers.Constant(embedding_matrix),\n",
    "              trainable=False)(inputs)\n",
    "x = transformer_block(x)\n",
    "x = GlobalMaxPool1D()(x)\n",
    "x = Dense(50, activation='relu')(x)\n",
    "x = Dropout(0.1)(x)\n",
    "outputs = Dense(2, activation='sigmoid')(x)\n",
    "model_2 = Model(inputs=inputs, outputs=outputs)\n",
    "\n",
    "model_2.compile(loss = 'binary_crossentropy',\n",
    "                optimizer = Optimizer.Adam(learning_rate=1e-2),\n",
    "                metrics = ['accuracy', tfa.metrics.F1Score(average='weighted', num_classes=2)])\n",
    "\n",
    "model_2.fit(X_tr, y_tr, batch_size=4096, epochs=20, validation_data=(X_va, y_va), callbacks=[callbacks_list])"
   ]
  },
  {
   "cell_type": "code",
   "execution_count": 20,
   "metadata": {
    "colab": {
     "base_uri": "https://localhost:8080/"
    },
    "id": "BtqcE7v0tLdX",
    "outputId": "3110e8ad-7e69-48e2-b5d1-9a0d171265c5"
   },
   "outputs": [
    {
     "name": "stdout",
     "output_type": "stream",
     "text": [
      "2041/2041 [==============================] - 7s 3ms/step\n",
      "0.6376\n",
      "0.20045271629778671\n",
      "0.3050133945656333\n"
     ]
    }
   ],
   "source": [
    "test_predictions_2, test_groundtruths_2 = get_prediction_classes(model_2, X_te, y_te)\n",
    "print(precision_score(test_groundtruths_2, test_predictions_2))\n",
    "print(recall_score(test_groundtruths_2, test_predictions_2))\n",
    "print(f1_score(test_groundtruths_2, test_predictions_2))"
   ]
  },
  {
   "cell_type": "code",
   "execution_count": null,
   "metadata": {
    "colab": {
     "base_uri": "https://localhost:8080/"
    },
    "id": "I9EOlzT7tq9C",
    "outputId": "d4e04e09-341a-47a6-a68e-3f9f5e470065"
   },
   "outputs": [
    {
     "name": "stderr",
     "output_type": "stream",
     "text": [
      "WARNING:tensorflow:Layer lstm_2 will not use cuDNN kernels since it doesn't meet the criteria. It will use a generic GPU kernel as fallback when running on GPU.\n",
      "WARNING:tensorflow:Layer lstm_2 will not use cuDNN kernels since it doesn't meet the criteria. It will use a generic GPU kernel as fallback when running on GPU.\n",
      "WARNING:tensorflow:Layer lstm_2 will not use cuDNN kernels since it doesn't meet the criteria. It will use a generic GPU kernel as fallback when running on GPU.\n",
      "WARNING:tensorflow:Layer lstm_3 will not use cuDNN kernels since it doesn't meet the criteria. It will use a generic GPU kernel as fallback when running on GPU.\n",
      "WARNING:tensorflow:Layer lstm_3 will not use cuDNN kernels since it doesn't meet the criteria. It will use a generic GPU kernel as fallback when running on GPU.\n",
      "WARNING:tensorflow:Layer lstm_3 will not use cuDNN kernels since it doesn't meet the criteria. It will use a generic GPU kernel as fallback when running on GPU.\n"
     ]
    },
    {
     "name": "stdout",
     "output_type": "stream",
     "text": [
      "Epoch 1/20\n",
      "287/287 [==============================] - 258s 855ms/step - loss: 0.1973 - accuracy: 0.9395 - f1_score: 0.9170 - val_loss: 0.1557 - val_accuracy: 0.9441 - val_f1_score: 0.9311 - lr: 0.0100\n",
      "Epoch 2/20\n",
      "287/287 [==============================] - 243s 848ms/step - loss: 0.1446 - accuracy: 0.9480 - f1_score: 0.9408 - val_loss: 0.1411 - val_accuracy: 0.9454 - val_f1_score: 0.9452 - lr: 0.0100\n",
      "Epoch 3/20\n",
      "287/287 [==============================] - 244s 852ms/step - loss: 0.1342 - accuracy: 0.9506 - f1_score: 0.9451 - val_loss: 0.1317 - val_accuracy: 0.9503 - val_f1_score: 0.9472 - lr: 0.0030\n",
      "Epoch 4/20\n",
      "287/287 [==============================] - ETA: 0s - loss: 0.1313 - accuracy: 0.9515 - f1_score: 0.9463"
     ]
    },
    {
     "name": "stderr",
     "output_type": "stream",
     "text": [
      "/usr/local/lib/python3.10/dist-packages/keras/src/engine/training.py:3000: UserWarning: You are saving your model as an HDF5 file via `model.save()`. This file format is considered legacy. We recommend using instead the native Keras format, e.g. `model.save('my_model.keras')`.\n",
      "  saving_api.save_model(\n"
     ]
    },
    {
     "name": "stdout",
     "output_type": "stream",
     "text": [
      "\b\b\b\b\b\b\b\b\b\b\b\b\b\b\b\b\b\b\b\b\b\b\b\b\b\b\b\b\b\b\b\b\b\b\b\b\b\b\b\b\b\b\b\b\b\b\b\b\b\b\b\b\b\b\b\b\b\b\b\b\b\b\b\b\b\b\b\b\b\b\b\b\b\b\b\b\b\b\b\b\b\b\b\b\b\b\b\b\b\b\b\b\b\b\b\b\b\b\b\b\b\b\b\r",
      "287/287 [==============================] - 244s 850ms/step - loss: 0.1313 - accuracy: 0.9515 - f1_score: 0.9463 - val_loss: 0.1301 - val_accuracy: 0.9508 - val_f1_score: 0.9473 - lr: 9.0000e-04\n",
      "Epoch 5/20\n",
      "287/287 [==============================] - 243s 845ms/step - loss: 0.1301 - accuracy: 0.9519 - f1_score: 0.9469 - val_loss: 0.1300 - val_accuracy: 0.9503 - val_f1_score: 0.9479 - lr: 2.7000e-04\n",
      "Epoch 6/20\n",
      "287/287 [==============================] - 242s 844ms/step - loss: 0.1300 - accuracy: 0.9519 - f1_score: 0.9470 - val_loss: 0.1300 - val_accuracy: 0.9504 - val_f1_score: 0.9482 - lr: 8.1000e-05\n",
      "Epoch 7/20\n",
      "287/287 [==============================] - 245s 850ms/step - loss: 0.1299 - accuracy: 0.9518 - f1_score: 0.9469 - val_loss: 0.1300 - val_accuracy: 0.9504 - val_f1_score: 0.9481 - lr: 2.4300e-05\n",
      "Epoch 8/20\n",
      "287/287 [==============================] - 242s 844ms/step - loss: 0.1298 - accuracy: 0.9517 - f1_score: 0.9467 - val_loss: 0.1299 - val_accuracy: 0.9504 - val_f1_score: 0.9481 - lr: 7.2900e-06\n",
      "Epoch 9/20\n",
      "287/287 [==============================] - 241s 839ms/step - loss: 0.1297 - accuracy: 0.9518 - f1_score: 0.9468 - val_loss: 0.1300 - val_accuracy: 0.9503 - val_f1_score: 0.9481 - lr: 2.1870e-06\n",
      "Epoch 10/20\n",
      "287/287 [==============================] - 243s 847ms/step - loss: 0.1297 - accuracy: 0.9518 - f1_score: 0.9469 - val_loss: 0.1300 - val_accuracy: 0.9503 - val_f1_score: 0.9481 - lr: 6.5610e-07\n",
      "Epoch 11/20\n",
      "287/287 [==============================] - 242s 841ms/step - loss: 0.1298 - accuracy: 0.9518 - f1_score: 0.9469 - val_loss: 0.1300 - val_accuracy: 0.9503 - val_f1_score: 0.9481 - lr: 1.9683e-07\n",
      "Epoch 12/20\n",
      "287/287 [==============================] - 243s 849ms/step - loss: 0.1298 - accuracy: 0.9517 - f1_score: 0.9468 - val_loss: 0.1300 - val_accuracy: 0.9503 - val_f1_score: 0.9481 - lr: 5.9049e-08\n",
      "Epoch 13/20\n",
      "287/287 [==============================] - 242s 842ms/step - loss: 0.1297 - accuracy: 0.9518 - f1_score: 0.9469 - val_loss: 0.1300 - val_accuracy: 0.9503 - val_f1_score: 0.9481 - lr: 1.7715e-08\n"
     ]
    },
    {
     "data": {
      "text/plain": [
       "<keras.src.callbacks.History at 0x7d6b785c1870>"
      ]
     },
     "execution_count": 25,
     "metadata": {},
     "output_type": "execute_result"
    }
   ],
   "source": [
    "# Thêm một layer LSTM\n",
    "inputs = Input(shape=(max_len, ))\n",
    "x = Embedding(input_dim=max_features,\n",
    "              output_dim=embed_size,\n",
    "              input_length=max_len,\n",
    "              embeddings_initializer=tensorflow.keras.initializers.Constant(embedding_matrix),\n",
    "              trainable=False)(inputs)\n",
    "x = Bidirectional(LSTM(50,\n",
    "                           return_sequences=True,\n",
    "                           dropout=0.1,\n",
    "                           recurrent_dropout=0.1))(x)\n",
    "x = Bidirectional(LSTM(50,\n",
    "                           return_sequences=True,\n",
    "                           dropout=0.1,\n",
    "                           recurrent_dropout=0.1))(x)\n",
    "x = GlobalMaxPool1D()(x)\n",
    "x = Dense(50, activation='relu')(x)\n",
    "x = Dropout(0.1)(x)\n",
    "outputs = Dense(2, activation='sigmoid')(x)\n",
    "model_3 = Model(inputs=inputs, outputs=outputs)\n",
    "\n",
    "model_3.compile(loss = 'binary_crossentropy',\n",
    "                optimizer = Optimizer.Adam(learning_rate=1e-2),\n",
    "                metrics = ['accuracy', tfa.metrics.F1Score(average='weighted', num_classes=2)])\n",
    "\n",
    "model_3.fit(X_tr, y_tr, batch_size=4096, epochs=20, validation_data=(X_va, y_va), callbacks=[callbacks_list])"
   ]
  },
  {
   "cell_type": "code",
   "execution_count": null,
   "metadata": {
    "colab": {
     "base_uri": "https://localhost:8080/"
    },
    "id": "lcnArEx8yZ8g",
    "outputId": "dcad151a-acaf-4503-8c74-e89e01fc79bf"
   },
   "outputs": [
    {
     "name": "stdout",
     "output_type": "stream",
     "text": [
      "2041/2041 [==============================] - 117s 57ms/step\n",
      "0.6236093943139679\n",
      "0.5075452716297787\n",
      "0.5596228508042153\n"
     ]
    }
   ],
   "source": [
    "test_predictions_3, test_groundtruths_3 = get_prediction_classes(model_3, X_te, y_te)\n",
    "print(precision_score(test_groundtruths_3, test_predictions_3))\n",
    "print(recall_score(test_groundtruths_3, test_predictions_3))\n",
    "print(f1_score(test_groundtruths_3, test_predictions_3))"
   ]
  },
  {
   "cell_type": "code",
   "execution_count": null,
   "metadata": {
    "id": "AAXh-0W-MZwH"
   },
   "outputs": [],
   "source": []
  }
 ],
 "metadata": {
  "accelerator": "GPU",
  "colab": {
   "gpuType": "T4",
   "provenance": [],
   "toc_visible": true
  },
  "kernelspec": {
   "display_name": "Python 3 (ipykernel)",
   "language": "python",
   "name": "python3"
  },
  "language_info": {
   "codemirror_mode": {
    "name": "ipython",
    "version": 3
   },
   "file_extension": ".py",
   "mimetype": "text/x-python",
   "name": "python",
   "nbconvert_exporter": "python",
   "pygments_lexer": "ipython3",
   "version": "3.9.12"
  }
 },
 "nbformat": 4,
 "nbformat_minor": 1
}
